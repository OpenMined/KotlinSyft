{
 "cells": [
  {
   "cell_type": "markdown",
   "metadata": {},
   "source": [
    "# Part X - Train on custom dataset\n",
    "\n",
    "A lot of effort in solving machine learning problem goes into data preparation. In this tutorial, we will show how to load and preprocess/augment data from a non trivial dataset using PyTorch tools."
   ]
  },
  {
   "cell_type": "markdown",
   "metadata": {},
   "source": [
    "To give an example of this process, let's use the default demo-app and modify demo-app/src/main/java/org/openmined/syft/demo/federated/datasource/LocalMNISTDataDataSource.kt to load custom dataset.  \n",
    "\n",
    "Author:\n",
    "- Pengyuan Zhou - GitHub: [@pengyuan-zhou](https://github.com/pengyuan-zhou)"
   ]
  },
  {
   "cell_type": "code",
   "execution_count": null,
   "metadata": {},
   "outputs": [],
   "source": [
    "package org.openmined.syft.demo.federated.datasource\n",
    "\n",
    "import android.content.res.Resources\n",
    "import org.openmined.syft.demo.R\n",
    "import org.openmined.syft.demo.federated.domain.Batch\n",
    "import java.io.BufferedReader\n",
    "import java.io.FileReader;\n",
    "import java.io.File"
   ]
  },
  {
   "cell_type": "markdown",
   "metadata": {},
   "source": [
    "Define class and data readers."
   ]
  },
  {
   "cell_type": "code",
   "execution_count": null,
   "metadata": {},
   "outputs": [],
   "source": [
    "class LocalMNISTDataDataSource constructor(\n",
    "    private val resources: Resources\n",
    ") {\n",
    "    private var trainDataReader = returnDataReader()\n",
    "    private var labelDataReader = returnLabelReader()"
   ]
  },
  {
   "cell_type": "markdown",
   "metadata": {},
   "source": [
    "Define the paths to train file and label file.\n",
    "If the training data and labels are in the same file, then define the paths with same value."
   ]
  },
  {
   "cell_type": "code",
   "execution_count": null,
   "metadata": {},
   "outputs": [],
   "source": [
    "    private var trainFile = File(\"/path/to/train.csv\")\n",
    "    private var labelFile = File(\"/path/to/label.csv\")"
   ]
  },
  {
   "cell_type": "markdown",
   "metadata": {},
   "source": [
    "Define the dimensions and starting indices of training data and labels, and the delimiter of the files."
   ]
  },
  {
   "cell_type": "code",
   "execution_count": null,
   "metadata": {},
   "outputs": [],
   "source": [
    "    private var trainDim = TD\n",
    "    private var labelDim = LD\n",
    "    private var trainStart = TS\n",
    "    private var labelStart = LS\n",
    "    private var delim = \",\""
   ]
  },
  {
   "cell_type": "markdown",
   "metadata": {},
   "source": [
    "Batching and sampling functions."
   ]
  },
  {
   "cell_type": "code",
   "execution_count": null,
   "metadata": {},
   "outputs": [],
   "source": [
    "    fun loadDataBatch(batchSize: Int): Pair<Batch, Batch> {\n",
    "        val trainInput = arrayListOf<List<Float>>()\n",
    "        val labels = arrayListOf<List<Float>>()\n",
    "        for (idx in 0..batchSize)\n",
    "            readSample(trainInput, labels)\n",
    "\n",
    "        val trainingData = Batch(\n",
    "            trainInput.flatten().toFloatArray(),\n",
    "            longArrayOf(trainInput.size.toLong(), trainDim)\n",
    "        )\n",
    "        val trainingLabel = Batch(\n",
    "            labels.flatten().toFloatArray(),\n",
    "            longArrayOf(labels.size.toLong(), labelDim)\n",
    "        )\n",
    "        return Pair(trainingData, trainingLabel)\n",
    "    }\n",
    "\n",
    "    private fun readSample(\n",
    "        trainInput: ArrayList<List<Float>>,\n",
    "        labels: ArrayList<List<Float>>\n",
    "    ) {\n",
    "        val sample = readLine()\n",
    "\n",
    "        trainInput.add(\n",
    "            sample.first.map { it.trim().toFloat() }\n",
    "        )\n",
    "        labels.add(\n",
    "            sample.second.map { it.trim().toFloat() }\n",
    "        )\n",
    "    }"
   ]
  },
  {
   "cell_type": "code",
   "execution_count": null,
   "metadata": {},
   "outputs": [],
   "source": [
    "Custom data readers."
   ]
  },
  {
   "cell_type": "code",
   "execution_count": null,
   "metadata": {},
   "outputs": [],
   "source": [
    "    private fun readLine(): Pair<List<String>, List<String>> {\n",
    "        var x = trainDataReader.readLine()?.split(delim)\n",
    "        var y = labelDataReader.readLine()?.split(delim)\n",
    "        if (x == null || y == null) {\n",
    "            restartReader()\n",
    "            x = trainDataReader.readLine()?.split(delim)\n",
    "            y = labelDataReader.readLine()?.split(delim)\n",
    "        }\n",
    "        if (x == null || y == null)\n",
    "            throw Exception(\"cannot read from dataset file\")\n",
    "        val subX = x.subList(TS, TS+TD)\n",
    "        val subY = y.subList(LS, LS+LD)\n",
    "        return Pair(subX, subY)\n",
    "    }\n",
    "\n",
    "    private fun restartReader() {\n",
    "        trainDataReader.close()\n",
    "        labelDataReader.close()\n",
    "        trainDataReader = returnDataReader()\n",
    "        labelDataReader = returnLabelReader()\n",
    "    }\n",
    "\n",
    "    private fun returnDataReader() = BufferedReader(\n",
    "        new FileReader(trainFile)\n",
    "    )\n",
    "\n",
    "    private fun returnLabelReader() = BufferedReader(\n",
    "        new FileReader(labelFile)\n",
    "    )\n",
    "\n",
    "}"
   ]
  },
  {
   "cell_type": "markdown",
   "metadata": {},
   "source": [
    "# Conclusion\n",
    "\n",
    "If you enjoyed this and would like to join the movement toward privacy preserving, decentralized ownership of AI and the AI supply chain (data), you can do so in the following ways! \n",
    "\n",
    "### Star KotlinSyft on GitHub\n",
    "\n",
    "The easiest way to help our community is just by starring the repositories! This helps raise awareness of the cool tools we're building.\n",
    "\n",
    "- [Star KotlinSyft](https://github.com/OpenMined/KotlinSyft)\n",
    "\n",
    "### Pick our tutorials on GitHub!\n",
    "\n",
    "We made really nice tutorials to get a better understanding of what Federated and Privacy-Preserving Learning should look like and how we are building the bricks for this to happen.\n",
    "\n",
    "- [Checkout the KotlinSyft tutorials](https://github.com/OpenMined/KotlinSyft/tree/master/tutorial/)\n",
    "\n",
    "\n",
    "### Join our Slack!\n",
    "\n",
    "The best way to keep up to date on the latest advancements is to join our community! \n",
    "\n",
    "- [Join slack.openmined.org](http://slack.openmined.org)\n",
    "\n",
    "### Join a Code Project!\n",
    "\n",
    "The best way to contribute to our community is to become a code contributor! If you want to start \"one off\" mini-projects, you can go to KotlinSyft GitHub Issues page and search for issues marked `Good First Issue`.\n",
    "\n",
    "- [Good First Issue Tickets](https://github.com/OpenMined/KotlinSyft/issues?q=is%3Aopen+is%3Aissue+label%3A%22good+first+issue%22)\n",
    "\n",
    "### Donate\n",
    "\n",
    "If you don't have time to contribute to our codebase, but would still like to lend support, you can also become a Backer on our Open Collective. All donations go toward our web hosting and other community expenses such as hackathons and meetups!\n",
    "\n",
    "- [Donate through OpenMined's Open Collective Page](https://opencollective.com/openmined)"
   ]
  }
 ],
 "metadata": {
  "celltoolbar": "Tags",
  "kernelspec": {
   "display_name": "Python 3",
   "language": "python",
   "name": "python3"
  },
  "language_info": {
   "codemirror_mode": {
    "name": "ipython",
    "version": 3
   },
   "file_extension": ".py",
   "mimetype": "text/x-python",
   "name": "python",
   "nbconvert_exporter": "python",
   "pygments_lexer": "ipython3",
   "version": "3.6.8"
  }
 },
 "nbformat": 4,
 "nbformat_minor": 4
}
